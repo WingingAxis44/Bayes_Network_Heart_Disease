{
 "cells": [
  {
   "cell_type": "code",
   "execution_count": 30,
   "metadata": {},
   "outputs": [
    {
     "name": "stdout",
     "output_type": "stream",
     "text": [
      "/home/jarred/Desktop/HONOURS_CODE/AI_Ass1\n"
     ]
    }
   ],
   "source": [
    "import os\n",
    "\n",
    "%matplotlib inline\n",
    "from pylab import *\n",
    "import matplotlib.pyplot as plt\n",
    "from IPython.display import display,HTML\n",
    "\n",
    "import math\n",
    "import pyAgrum as gum\n",
    "import pyAgrum.lib.notebook as gnb\n",
    "import pyAgrum.lib.image as gumImage\n",
    "\n",
    "%cd /home/jarred/Desktop/HONOURS_CODE/AI_Ass1\n",
    "\n",
    "def make_decision_network_image(evidence):\n",
    "    diag=gum.loadID(\"./output/MI_decision.bifxml\")\n",
    "\n",
    "    ie=gum.ShaferShenoyLIMIDInference(diag)\n",
    "\n",
    "\n",
    "    ie.addNoForgettingAssumption([\"Call_Ambulance\"])\n",
    "\n",
    "    display(HTML(\"<h2>Inference in the Decision Network, optimizing the decisions nodes</h2>\"))\n",
    "    display(HTML(f\"<h3>Evidencing on: {evidence}</h3>\"))\n",
    "    try:\n",
    "        ie.makeInference()\n",
    "    except gum.GumException as e:\n",
    "        print(e)\n",
    "\n",
    "\n",
    "    gnb.showInference(diag,engine=ie,size='100',evs=evidence)\n",
    "\n",
    "\n",
    "def make_bayes_network_image(evidence):\n",
    "\n",
    "    diag=gum.loadBN(\"./output/MI_bayes.bif\")\n",
    "\n",
    "\n",
    "    ie=gum.LazyPropagation(diag)\n",
    "\n",
    "    display(HTML(\"<h2>Inference in the Bayes Network</h2>\"))\n",
    "    display(HTML(f\"<h3>Evidencing on: {evidence}</h3>\"))\n",
    "    try:\n",
    "        ie.makeInference()\n",
    "    except gum.GumException as e:\n",
    "        print(e)\n",
    "\n",
    "\n",
    "    gnb.showInference(diag,engine=ie,size='100',evs=evidence)"
   ]
  },
  {
   "cell_type": "code",
   "execution_count": null,
   "metadata": {},
   "outputs": [],
   "source": [
    "make_decision_network_image({'Chest_Pain':0,'Heart_Disease':1})"
   ]
  },
  {
   "cell_type": "markdown",
   "metadata": {},
   "source": [
    "#Use Case 1#"
   ]
  },
  {
   "cell_type": "code",
   "execution_count": null,
   "metadata": {},
   "outputs": [],
   "source": []
  }
 ],
 "metadata": {
  "kernelspec": {
   "display_name": "Python 3.8.10 ('venv': venv)",
   "language": "python",
   "name": "python3"
  },
  "language_info": {
   "codemirror_mode": {
    "name": "ipython",
    "version": 3
   },
   "file_extension": ".py",
   "mimetype": "text/x-python",
   "name": "python",
   "nbconvert_exporter": "python",
   "pygments_lexer": "ipython3",
   "version": "3.8.10"
  },
  "orig_nbformat": 4,
  "vscode": {
   "interpreter": {
    "hash": "8a415b0e130201b0f6d9ba9307b94e9f1b41c0fea72890ab66a5403c908daa1f"
   }
  }
 },
 "nbformat": 4,
 "nbformat_minor": 2
}
